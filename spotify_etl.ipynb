{
 "cells": [
  {
   "cell_type": "markdown",
   "id": "52ccb66d",
   "metadata": {},
   "source": [
    "## Simple example of ETL process on spotify songs we listened to"
   ]
  },
  {
   "cell_type": "code",
   "execution_count": 1,
   "id": "56b43334",
   "metadata": {},
   "outputs": [],
   "source": [
    "import sqlalchemy\n",
    "import pandas as pd\n",
    "import requests\n",
    "import json\n",
    "from datetime import datetime\n",
    "import datetime"
   ]
  },
  {
   "cell_type": "code",
   "execution_count": 15,
   "id": "b0c45cc7",
   "metadata": {},
   "outputs": [],
   "source": [
    "# Extracting through the spotify API\n",
    "# Note: The token expires after about 10 minutes, so you have to take a new token every now and then.\n",
    "\n",
    "DATABASE_LOCATION = 'sqlite:///my_played_tracks.sqlite'\n",
    "USER_ID = 'pi_dzej'\n",
    "TOKEN = \"BQAD_iyRZtra_zrJqwQsjC6GAsEV-sIKQTm5xyOVdTkye_7n2OjHV6G8LYuReQYdAnQmZKiB0taDPVv726yhoxZJeOItW-DwwAwoYjmSKc0F_jqmTYzSiqu0QAXAJuT8PSWgM4tA9lAklmzQOl0FmoAjd0pLxboJTF1XeGub\"\n",
    "headers = {\n",
    "     \"Accept\" : \"application/json\",\n",
    "     \"Content-Type\" : \"application/json\",\n",
    "     \"Authorization\" : f\"Bearer {TOKEN}\"\n",
    "}"
   ]
  },
  {
   "cell_type": "code",
   "execution_count": 27,
   "id": "7f914dcb",
   "metadata": {},
   "outputs": [
    {
     "data": {
      "text/plain": [
       "datetime.datetime(2022, 1, 24, 13, 8, 49, 68295)"
      ]
     },
     "execution_count": 27,
     "metadata": {},
     "output_type": "execute_result"
    }
   ],
   "source": [
    "# defining the time period in which we want to know what song we listened to\n",
    "yesterday = today - datetime.timedelta(days = 15)"
   ]
  },
  {
   "cell_type": "code",
   "execution_count": 28,
   "id": "8b100c28",
   "metadata": {},
   "outputs": [
    {
     "data": {
      "text/plain": [
       "1643026129000"
      ]
     },
     "execution_count": 28,
     "metadata": {},
     "output_type": "execute_result"
    }
   ],
   "source": [
    "# convert it into a unix miliseconds timestamp\n",
    "yesterday_unix_timestamp = int(yesterday.timestamp()) * 1000"
   ]
  },
  {
   "cell_type": "code",
   "execution_count": 29,
   "id": "23caae4a",
   "metadata": {},
   "outputs": [],
   "source": [
    "# getting the data from the spotify API\n",
    "r = requests.get(f\"https://api.spotify.com/v1/me/player/recently-played?after={yesterday_unix_timestamp}\", headers = headers)"
   ]
  },
  {
   "cell_type": "code",
   "execution_count": 30,
   "id": "13a727cd",
   "metadata": {},
   "outputs": [],
   "source": [
    "data = r.json()"
   ]
  },
  {
   "cell_type": "code",
   "execution_count": 25,
   "id": "73ee7d75",
   "metadata": {},
   "outputs": [],
   "source": [
    "song_names = []\n",
    "artist_names = []\n",
    "played_at_list = []\n",
    "timestamps = []"
   ]
  },
  {
   "cell_type": "code",
   "execution_count": 54,
   "id": "9d10484b",
   "metadata": {},
   "outputs": [],
   "source": [
    "for song in data['items']:\n",
    "    song_names.append(song[\"track\"][\"name\"])\n",
    "    artist_names.append(song[\"track\"][\"artists\"][0][\"name\"])\n",
    "    played_at_list.append(song['played_at'])\n",
    "    timestamps.append(song['played_at'][0:10])    "
   ]
  },
  {
   "cell_type": "code",
   "execution_count": 65,
   "id": "5644b5ad",
   "metadata": {},
   "outputs": [],
   "source": [
    "song_df = pd.DataFrame(data = [song_names,artist_names,played_at_list,timestamps])"
   ]
  },
  {
   "cell_type": "code",
   "execution_count": 68,
   "id": "5a8d7375",
   "metadata": {},
   "outputs": [],
   "source": [
    "song_df = song_df.transpose()"
   ]
  },
  {
   "cell_type": "code",
   "execution_count": 73,
   "id": "79840f37",
   "metadata": {},
   "outputs": [],
   "source": [
    "song_df.columns = ['song_name','artist_name','played_at','date_played']"
   ]
  },
  {
   "cell_type": "code",
   "execution_count": 75,
   "id": "61f37f62",
   "metadata": {},
   "outputs": [
    {
     "name": "stdout",
     "output_type": "stream",
     "text": [
      "                   song_name        artist_name                 played_at  \\\n",
      "0                       Kaze       Tophat Panda  2022-02-04T21:46:57.928Z   \n",
      "1                     Lights  Tibeauthetraveler  2022-02-04T21:44:36.691Z   \n",
      "2                    Chanson     lechiffrebeats  2022-02-04T21:42:23.923Z   \n",
      "3              Sunset Cliffs                CMJ  2022-02-04T21:39:34.735Z   \n",
      "4               Scary Coffee           JazzyHan  2022-02-04T21:37:21.853Z   \n",
      "5                Spring Rain                BVG  2022-02-04T21:35:23.372Z   \n",
      "6                    Stories     Rebecka Aether  2022-02-04T18:06:21.475Z   \n",
      "7                Piece of me        Orchid Rain  2022-02-04T16:04:47.290Z   \n",
      "8   When It Was Just A Dream         Diya Wiler  2022-02-04T16:01:56.178Z   \n",
      "9                      Sajda        Ijaya Gupta  2022-02-04T15:58:42.607Z   \n",
      "10                      Aura         Zion Llama  2022-02-04T15:55:14.142Z   \n",
      "11               Relaksohuni            Qetesia  2022-02-04T15:52:55.135Z   \n",
      "12                Going Back         Koby Laver  2022-02-04T15:50:04.199Z   \n",
      "13                      Hush      Yonatan Awate  2022-02-04T15:46:28.178Z   \n",
      "14          Illustratosphere         Anna Nueva  2022-02-04T15:43:30.070Z   \n",
      "15                Wanderstar         Amel Scott  2022-02-04T15:40:12.236Z   \n",
      "16                  Hesperus      Rosa Løvstrøm  2022-02-04T15:37:43.138Z   \n",
      "17            I et andet liv      Minik Knudsen  2022-02-04T15:34:34.688Z   \n",
      "18             Herinneringen         Sohn Aelia  2022-02-04T15:31:40.141Z   \n",
      "19                    Aurora     Stephanie Hawk  2022-02-04T15:28:53.173Z   \n",
      "\n",
      "   date_played  \n",
      "0   2022-02-04  \n",
      "1   2022-02-04  \n",
      "2   2022-02-04  \n",
      "3   2022-02-04  \n",
      "4   2022-02-04  \n",
      "5   2022-02-04  \n",
      "6   2022-02-04  \n",
      "7   2022-02-04  \n",
      "8   2022-02-04  \n",
      "9   2022-02-04  \n",
      "10  2022-02-04  \n",
      "11  2022-02-04  \n",
      "12  2022-02-04  \n",
      "13  2022-02-04  \n",
      "14  2022-02-04  \n",
      "15  2022-02-04  \n",
      "16  2022-02-04  \n",
      "17  2022-02-04  \n",
      "18  2022-02-04  \n",
      "19  2022-02-04  \n"
     ]
    }
   ],
   "source": [
    "print(song_df)"
   ]
  },
  {
   "cell_type": "code",
   "execution_count": 101,
   "id": "88b74662",
   "metadata": {},
   "outputs": [],
   "source": [
    "# Transform\n",
    "def data_validation_check(df):\n",
    "   # checking if data is empty\n",
    "    if df.empty:\n",
    "        print(\"No songs played in the last 15 days.\")\n",
    "        return False\n",
    "    # we can only listen to one song at a time, so 'played_at' is our primary key\n",
    "    if df['played_at'].is_unique:\n",
    "        pass\n",
    "    else:\n",
    "        raise Exception(\"Primary Key Check Violated.\")\n",
    "    # check for null values in our data\n",
    "    if df.isnull().values.any():\n",
    "        raise Exception(\"Null values found.\")\n",
    "    \n",
    "    return True"
   ]
  },
  {
   "cell_type": "code",
   "execution_count": 104,
   "id": "4fe336df",
   "metadata": {},
   "outputs": [
    {
     "name": "stdout",
     "output_type": "stream",
     "text": [
      "Data valid, proceed to Load stage\n"
     ]
    }
   ],
   "source": [
    "if data_validation_check(song_df):\n",
    "    print('Data valid, proceed to Load stage')"
   ]
  },
  {
   "cell_type": "code",
   "execution_count": 105,
   "id": "5d6fe3ec",
   "metadata": {},
   "outputs": [],
   "source": [
    "# Load\n",
    "engine = sqlalchemy.create_engine(DATABASE_LOCATION)"
   ]
  },
  {
   "cell_type": "code",
   "execution_count": 106,
   "id": "bbba1d84",
   "metadata": {},
   "outputs": [],
   "source": [
    "try:\n",
    "    song_df.to_sql(\"my_played_tracks\", engine, index = False, if_exists = 'append')\n",
    "except:\n",
    "    print('Data already exists')"
   ]
  }
 ],
 "metadata": {
  "kernelspec": {
   "display_name": "Python 3",
   "language": "python",
   "name": "python3"
  },
  "language_info": {
   "codemirror_mode": {
    "name": "ipython",
    "version": 3
   },
   "file_extension": ".py",
   "mimetype": "text/x-python",
   "name": "python",
   "nbconvert_exporter": "python",
   "pygments_lexer": "ipython3",
   "version": "3.8.8"
  }
 },
 "nbformat": 4,
 "nbformat_minor": 5
}
